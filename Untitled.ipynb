{
 "cells": [
  {
   "cell_type": "code",
   "execution_count": 1,
   "id": "790095da",
   "metadata": {},
   "outputs": [
    {
     "name": "stdout",
     "output_type": "stream",
     "text": [
      "Jupyter Books\n"
     ]
    }
   ],
   "source": [
    "print (\"Jupyter Books\")"
   ]
  },
  {
   "cell_type": "code",
   "execution_count": 3,
   "id": "3c55cd49",
   "metadata": {},
   "outputs": [
    {
     "name": "stdout",
     "output_type": "stream",
     "text": [
      "1\n"
     ]
    }
   ],
   "source": [
    "print(1)"
   ]
  },
  {
   "cell_type": "code",
   "execution_count": 4,
   "id": "d22a82d0",
   "metadata": {},
   "outputs": [
    {
     "name": "stdout",
     "output_type": "stream",
     "text": [
      "Ejemplo: de uso de la sentencia ... print \n"
     ]
    }
   ],
   "source": [
    "print (\"Ejemplo: \" \"de uso de la sentencia ...\" + \" print \")"
   ]
  },
  {
   "cell_type": "code",
   "execution_count": 6,
   "id": "ffa96e8b",
   "metadata": {},
   "outputs": [
    {
     "name": "stdout",
     "output_type": "stream",
     "text": [
      "ok\n"
     ]
    }
   ],
   "source": [
    "v = 1\n",
    "if v==1:\n",
    "    print(\"ok\")"
   ]
  },
  {
   "cell_type": "code",
   "execution_count": 7,
   "id": "0f263733",
   "metadata": {},
   "outputs": [
    {
     "name": "stdout",
     "output_type": "stream",
     "text": [
      "ok\n"
     ]
    }
   ],
   "source": [
    "if v==1:\n",
    "    print(\"ok\")\n",
    "else:\n",
    "    print(\"Emergencia!!\")"
   ]
  },
  {
   "cell_type": "code",
   "execution_count": 8,
   "id": "af24b94a",
   "metadata": {},
   "outputs": [
    {
     "name": "stdout",
     "output_type": "stream",
     "text": [
      "Emergencia!!\n"
     ]
    }
   ],
   "source": [
    "if v==12:\n",
    "    print(\"ok\")\n",
    "else:\n",
    "    print(\"Emergencia!!\")"
   ]
  },
  {
   "cell_type": "code",
   "execution_count": 11,
   "id": "dde42eea",
   "metadata": {},
   "outputs": [],
   "source": [
    "def f():\n",
    "    \"esta funcion es inutil\"\n",
    "    pass"
   ]
  },
  {
   "cell_type": "code",
   "execution_count": null,
   "id": "0f96420c",
   "metadata": {},
   "outputs": [],
   "source": []
  }
 ],
 "metadata": {
  "kernelspec": {
   "display_name": "Python 3 (ipykernel)",
   "language": "python",
   "name": "python3"
  },
  "language_info": {
   "codemirror_mode": {
    "name": "ipython",
    "version": 3
   },
   "file_extension": ".py",
   "mimetype": "text/x-python",
   "name": "python",
   "nbconvert_exporter": "python",
   "pygments_lexer": "ipython3",
   "version": "3.9.7"
  }
 },
 "nbformat": 4,
 "nbformat_minor": 5
}
